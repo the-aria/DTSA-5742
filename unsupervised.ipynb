{
 "cells": [
  {
   "cell_type": "code",
   "execution_count": 1,
   "id": "713fb925-f2b0-401f-b8a5-87408d1431f4",
   "metadata": {},
   "outputs": [],
   "source": [
    "import pandas as pd\n",
    "import numpy as np\n",
    "import matplotlib.pyplot as plt\n",
    "from sklearn.model_selection import train_test_split\n",
    "from sklearn.ensemble import RandomForestRegressor\n",
    "from sklearn.metrics import mean_absolute_error, mean_squared_error, r2_score\n",
    "from sklearn.cluster import KMeans"
   ]
  },
  {
   "cell_type": "code",
   "execution_count": 2,
   "id": "7d3f490a-3d4b-43d6-b3b7-669c50918259",
   "metadata": {},
   "outputs": [],
   "source": [
    "# load the datasets\n",
    "noaa_ind = pd.read_csv('Data/NOAA_CLN.csv')\n",
    "usgs_ma35 = pd.read_csv('Data/USGS_MA35.csv')\n",
    "usgs_ma39 = pd.read_csv('Data/USGS_MA39.csv')"
   ]
  },
  {
   "cell_type": "code",
   "execution_count": 3,
   "id": "649aa7e1-0219-4556-979f-2d1967e2fe56",
   "metadata": {},
   "outputs": [],
   "source": [
    "# rename date columns for consistency\n",
    "usgs_ma35.rename(columns={'datetime': 'date'}, inplace=True)\n",
    "usgs_ma39.rename(columns={'datetime': 'date'}, inplace=True)\n",
    "\n",
    "# convert date columns to datetime\n",
    "noaa_ind['date'] = pd.to_datetime(noaa_ind['date'])\n",
    "\n",
    "usgs_ma35['date'] = pd.to_datetime(usgs_ma35['date']).dt.date\n",
    "usgs_ma35['date'] = pd.to_datetime(usgs_ma35['date'])\n",
    "\n",
    "usgs_ma39['date'] = pd.to_datetime(usgs_ma39['date']).dt.date\n",
    "usgs_ma39['date'] = pd.to_datetime(usgs_ma39['date'])\n",
    "\n",
    "# merge NOAA data with groundwater data for both USGS stations\n",
    "merged_ma35 = usgs_ma35.merge(noaa_ind, on='date', how='inner')\n",
    "merged_ma39 = usgs_ma39.merge(noaa_ind, on='date', how='inner')"
   ]
  },
  {
   "cell_type": "code",
   "execution_count": 4,
   "id": "8131f9b8-d010-4010-b59f-fd2a44ccfedd",
   "metadata": {},
   "outputs": [],
   "source": [
    "# select only temperature and precipitation features for clustering\n",
    "clustering_features_ma35 = merged_ma35[['t_median', 'prcp']]\n",
    "clustering_features_ma39 = merged_ma39[['t_median', 'prcp']]"
   ]
  },
  {
   "cell_type": "code",
   "execution_count": 5,
   "id": "0918ac25-9a23-4456-a3ba-47abbeb05072",
   "metadata": {},
   "outputs": [
    {
     "name": "stderr",
     "output_type": "stream",
     "text": [
      "C:\\Users\\ariag\\anaconda3\\lib\\site-packages\\sklearn\\cluster\\_kmeans.py:870: FutureWarning: The default value of `n_init` will change from 10 to 'auto' in 1.4. Set the value of `n_init` explicitly to suppress the warning\n",
      "  warnings.warn(\n",
      "C:\\Users\\ariag\\anaconda3\\lib\\site-packages\\sklearn\\cluster\\_kmeans.py:870: FutureWarning: The default value of `n_init` will change from 10 to 'auto' in 1.4. Set the value of `n_init` explicitly to suppress the warning\n",
      "  warnings.warn(\n"
     ]
    }
   ],
   "source": [
    "# apply K-Means clustering\n",
    "kmeans_ma35 = KMeans(n_clusters=2, random_state=30)\n",
    "merged_ma35['cluster'] = kmeans_ma35.fit_predict(clustering_features_ma35)\n",
    "\n",
    "kmeans_ma39 = KMeans(n_clusters=2, random_state=30)\n",
    "merged_ma39['cluster'] = kmeans_ma39.fit_predict(clustering_features_ma39)"
   ]
  },
  {
   "cell_type": "code",
   "execution_count": 6,
   "id": "539b9557-1982-44cd-88da-5ab90fdb7bbc",
   "metadata": {},
   "outputs": [],
   "source": [
    "# assign NOAA data dynamically based on cluster\n",
    "merged_ma35['assigned_station'] = merged_ma35['cluster'].apply(lambda x: 'USW00093819' if x == 0 else 'USW00053842')\n",
    "merged_ma39['assigned_station'] = merged_ma39['cluster'].apply(lambda x: 'USW00093819' if x == 0 else 'USW00053842')"
   ]
  },
  {
   "cell_type": "code",
   "execution_count": 7,
   "id": "2131f886-0724-4da3-a0b0-828a760522bf",
   "metadata": {},
   "outputs": [],
   "source": [
    "# drop rows where 'id' and 'assigned_station' are different\n",
    "merged_ma35 = merged_ma35[merged_ma35['id'] == merged_ma35['assigned_station']]\n",
    "merged_ma39 = merged_ma39[merged_ma39['id'] == merged_ma39['assigned_station']]"
   ]
  },
  {
   "cell_type": "code",
   "execution_count": 8,
   "id": "67cab7ba-97b0-4c30-a620-181f806fff4b",
   "metadata": {},
   "outputs": [
    {
     "data": {
      "text/html": [
       "<div>\n",
       "<style scoped>\n",
       "    .dataframe tbody tr th:only-of-type {\n",
       "        vertical-align: middle;\n",
       "    }\n",
       "\n",
       "    .dataframe tbody tr th {\n",
       "        vertical-align: top;\n",
       "    }\n",
       "\n",
       "    .dataframe thead th {\n",
       "        text-align: right;\n",
       "    }\n",
       "</style>\n",
       "<table border=\"1\" class=\"dataframe\">\n",
       "  <thead>\n",
       "    <tr style=\"text-align: right;\">\n",
       "      <th></th>\n",
       "      <th>date</th>\n",
       "      <th>prcp</th>\n",
       "      <th>t_median</th>\n",
       "      <th>gwl_median</th>\n",
       "    </tr>\n",
       "  </thead>\n",
       "  <tbody>\n",
       "    <tr>\n",
       "      <th>0</th>\n",
       "      <td>2015-01-01</td>\n",
       "      <td>0.00</td>\n",
       "      <td>26.0</td>\n",
       "      <td>33.000</td>\n",
       "    </tr>\n",
       "    <tr>\n",
       "      <th>2</th>\n",
       "      <td>2015-01-02</td>\n",
       "      <td>0.00</td>\n",
       "      <td>32.0</td>\n",
       "      <td>32.925</td>\n",
       "    </tr>\n",
       "    <tr>\n",
       "      <th>4</th>\n",
       "      <td>2015-01-03</td>\n",
       "      <td>0.79</td>\n",
       "      <td>42.5</td>\n",
       "      <td>32.910</td>\n",
       "    </tr>\n",
       "    <tr>\n",
       "      <th>6</th>\n",
       "      <td>2015-01-04</td>\n",
       "      <td>0.01</td>\n",
       "      <td>28.0</td>\n",
       "      <td>32.850</td>\n",
       "    </tr>\n",
       "    <tr>\n",
       "      <th>8</th>\n",
       "      <td>2015-01-05</td>\n",
       "      <td>0.11</td>\n",
       "      <td>9.0</td>\n",
       "      <td>32.935</td>\n",
       "    </tr>\n",
       "  </tbody>\n",
       "</table>\n",
       "</div>"
      ],
      "text/plain": [
       "        date  prcp  t_median  gwl_median\n",
       "0 2015-01-01  0.00      26.0      33.000\n",
       "2 2015-01-02  0.00      32.0      32.925\n",
       "4 2015-01-03  0.79      42.5      32.910\n",
       "6 2015-01-04  0.01      28.0      32.850\n",
       "8 2015-01-05  0.11       9.0      32.935"
      ]
     },
     "execution_count": 8,
     "metadata": {},
     "output_type": "execute_result"
    }
   ],
   "source": [
    "merged_ma35['gwl_median'] = (merged_ma35['gwl_max'] + merged_ma35['gwl_min']) / 2\n",
    "merged_ma35 = merged_ma35.drop(columns=['gwl_max', 'gwl_min', 'id', 't_hr', 'cluster', 'assigned_station'])\n",
    "merged_ma35.head()"
   ]
  },
  {
   "cell_type": "code",
   "execution_count": 9,
   "id": "e84fcb99-0b68-45e7-9cb0-1665cd2cb467",
   "metadata": {},
   "outputs": [
    {
     "data": {
      "text/html": [
       "<div>\n",
       "<style scoped>\n",
       "    .dataframe tbody tr th:only-of-type {\n",
       "        vertical-align: middle;\n",
       "    }\n",
       "\n",
       "    .dataframe tbody tr th {\n",
       "        vertical-align: top;\n",
       "    }\n",
       "\n",
       "    .dataframe thead th {\n",
       "        text-align: right;\n",
       "    }\n",
       "</style>\n",
       "<table border=\"1\" class=\"dataframe\">\n",
       "  <thead>\n",
       "    <tr style=\"text-align: right;\">\n",
       "      <th></th>\n",
       "      <th>date</th>\n",
       "      <th>prcp</th>\n",
       "      <th>t_median</th>\n",
       "      <th>gwl_median</th>\n",
       "    </tr>\n",
       "  </thead>\n",
       "  <tbody>\n",
       "    <tr>\n",
       "      <th>1</th>\n",
       "      <td>2015-01-01</td>\n",
       "      <td>0.00</td>\n",
       "      <td>27.0</td>\n",
       "      <td>17.335</td>\n",
       "    </tr>\n",
       "    <tr>\n",
       "      <th>3</th>\n",
       "      <td>2015-01-02</td>\n",
       "      <td>0.00</td>\n",
       "      <td>32.5</td>\n",
       "      <td>17.455</td>\n",
       "    </tr>\n",
       "    <tr>\n",
       "      <th>5</th>\n",
       "      <td>2015-01-03</td>\n",
       "      <td>0.81</td>\n",
       "      <td>42.5</td>\n",
       "      <td>17.235</td>\n",
       "    </tr>\n",
       "    <tr>\n",
       "      <th>7</th>\n",
       "      <td>2015-01-04</td>\n",
       "      <td>0.01</td>\n",
       "      <td>29.0</td>\n",
       "      <td>16.710</td>\n",
       "    </tr>\n",
       "    <tr>\n",
       "      <th>9</th>\n",
       "      <td>2015-01-05</td>\n",
       "      <td>0.10</td>\n",
       "      <td>10.0</td>\n",
       "      <td>16.105</td>\n",
       "    </tr>\n",
       "  </tbody>\n",
       "</table>\n",
       "</div>"
      ],
      "text/plain": [
       "        date  prcp  t_median  gwl_median\n",
       "1 2015-01-01  0.00      27.0      17.335\n",
       "3 2015-01-02  0.00      32.5      17.455\n",
       "5 2015-01-03  0.81      42.5      17.235\n",
       "7 2015-01-04  0.01      29.0      16.710\n",
       "9 2015-01-05  0.10      10.0      16.105"
      ]
     },
     "execution_count": 9,
     "metadata": {},
     "output_type": "execute_result"
    }
   ],
   "source": [
    "merged_ma39['gwl_median'] = (merged_ma39['gwl_max'] + merged_ma39['gwl_min']) / 2\n",
    "merged_ma39 = merged_ma39.drop(columns=['gwl_max', 'gwl_min', 'id', 't_hr', 'cluster', 'assigned_station'])\n",
    "merged_ma39.head()"
   ]
  },
  {
   "cell_type": "code",
   "execution_count": 10,
   "id": "df0f6963-5d02-4ea3-ad9e-0cf9c54fc0bc",
   "metadata": {},
   "outputs": [],
   "source": [
    "merged_ma35.to_csv('Data/Dynamic_MA35.csv', index=False)\n",
    "merged_ma39.to_csv('Data/Dynamic_MA39.csv', index=False)"
   ]
  }
 ],
 "metadata": {
  "kernelspec": {
   "display_name": "Python 3 (ipykernel)",
   "language": "python",
   "name": "python3"
  },
  "language_info": {
   "codemirror_mode": {
    "name": "ipython",
    "version": 3
   },
   "file_extension": ".py",
   "mimetype": "text/x-python",
   "name": "python",
   "nbconvert_exporter": "python",
   "pygments_lexer": "ipython3",
   "version": "3.10.9"
  }
 },
 "nbformat": 4,
 "nbformat_minor": 5
}
